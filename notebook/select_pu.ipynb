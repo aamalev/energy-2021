{
 "cells": [
  {
   "cell_type": "code",
   "execution_count": 12,
   "id": "3f03d3b7",
   "metadata": {},
   "outputs": [],
   "source": [
    "%matplotlib inline\n",
    "import pandas as pd\n",
    "import numpy as np\n",
    "import matplotlib.pyplot as plt"
   ]
  },
  {
   "cell_type": "code",
   "execution_count": 13,
   "id": "666de56f",
   "metadata": {},
   "outputs": [
    {
     "name": "stderr",
     "output_type": "stream",
     "text": [
      "/media/tanushenka/MrBig/projects/mosenergosbyt/env37/lib/python3.7/site-packages/IPython/core/interactiveshell.py:3186: DtypeWarning: Columns (3,4) have mixed types.Specify dtype option on import or set low_memory=False.\n",
      "  interactivity=interactivity, compiler=compiler, result=result)\n"
     ]
    }
   ],
   "source": [
    "data1 = pd.read_csv('ch.xackaton_fuv2_bitovie_abon_parametri_dogovora.csv')"
   ]
  },
  {
   "cell_type": "code",
   "execution_count": 14,
   "id": "b5269677",
   "metadata": {},
   "outputs": [
    {
     "data": {
      "text/html": [
       "<div>\n",
       "<style scoped>\n",
       "    .dataframe tbody tr th:only-of-type {\n",
       "        vertical-align: middle;\n",
       "    }\n",
       "\n",
       "    .dataframe tbody tr th {\n",
       "        vertical-align: top;\n",
       "    }\n",
       "\n",
       "    .dataframe thead th {\n",
       "        text-align: right;\n",
       "    }\n",
       "</style>\n",
       "<table border=\"1\" class=\"dataframe\">\n",
       "  <thead>\n",
       "    <tr style=\"text-align: right;\">\n",
       "      <th></th>\n",
       "      <th>id</th>\n",
       "      <th>ownerhip_form</th>\n",
       "      <th>coliving_flag</th>\n",
       "      <th>home_running_way</th>\n",
       "      <th>type_ls_building</th>\n",
       "      <th>counter_type</th>\n",
       "      <th>counter_category</th>\n",
       "      <th>pu_setup_place</th>\n",
       "      <th>pu_actual_state</th>\n",
       "      <th>odn_is_valuable</th>\n",
       "      <th>calling_is_on</th>\n",
       "      <th>autocalling_is_on</th>\n",
       "      <th>account_type</th>\n",
       "      <th>epd_sign</th>\n",
       "      <th>epd_sign_1</th>\n",
       "    </tr>\n",
       "  </thead>\n",
       "  <tbody>\n",
       "    <tr>\n",
       "      <th>0</th>\n",
       "      <td>3003</td>\n",
       "      <td>Государственная, муниц.</td>\n",
       "      <td>Отдельная</td>\n",
       "      <td>ИЖС</td>\n",
       "      <td>NaN</td>\n",
       "      <td>НЕВА 101</td>\n",
       "      <td>однофазные электронные (однотарифные)</td>\n",
       "      <td>Частный дом</td>\n",
       "      <td>Работает, нет несоответствия</td>\n",
       "      <td>0</td>\n",
       "      <td>0</td>\n",
       "      <td>0</td>\n",
       "      <td>Однотарифный</td>\n",
       "      <td>2(ОПД с ТКО)</td>\n",
       "      <td>2(ОПД с ТКО)</td>\n",
       "    </tr>\n",
       "    <tr>\n",
       "      <th>1</th>\n",
       "      <td>3006</td>\n",
       "      <td>Частная, приватизированная</td>\n",
       "      <td>Отдельная</td>\n",
       "      <td>ИЖС</td>\n",
       "      <td>NaN</td>\n",
       "      <td>Барс-1.113</td>\n",
       "      <td>однофазные электронные (однотарифные)</td>\n",
       "      <td>Частный дом</td>\n",
       "      <td>Работает, нет несоответствия</td>\n",
       "      <td>0</td>\n",
       "      <td>0</td>\n",
       "      <td>0</td>\n",
       "      <td>Однотарифный</td>\n",
       "      <td>2(ОПД с ТКО)</td>\n",
       "      <td>2(ОПД с ТКО)</td>\n",
       "    </tr>\n",
       "    <tr>\n",
       "      <th>2</th>\n",
       "      <td>3009</td>\n",
       "      <td>Частная, приватизированная</td>\n",
       "      <td>Отдельная</td>\n",
       "      <td>ИЖС</td>\n",
       "      <td>NaN</td>\n",
       "      <td>СЭО-1.15.402</td>\n",
       "      <td>однофазные электронные (однотарифные)</td>\n",
       "      <td>Частный дом</td>\n",
       "      <td>Работает, нет несоответствия</td>\n",
       "      <td>0</td>\n",
       "      <td>0</td>\n",
       "      <td>0</td>\n",
       "      <td>Однотарифный</td>\n",
       "      <td>2(ОПД с ТКО)</td>\n",
       "      <td>2(ОПД с ТКО)</td>\n",
       "    </tr>\n",
       "  </tbody>\n",
       "</table>\n",
       "</div>"
      ],
      "text/plain": [
       "     id               ownerhip_form coliving_flag home_running_way  \\\n",
       "0  3003     Государственная, муниц.     Отдельная              ИЖС   \n",
       "1  3006  Частная, приватизированная     Отдельная              ИЖС   \n",
       "2  3009  Частная, приватизированная     Отдельная              ИЖС   \n",
       "\n",
       "  type_ls_building  counter_type                       counter_category  \\\n",
       "0              NaN      НЕВА 101  однофазные электронные (однотарифные)   \n",
       "1              NaN    Барс-1.113  однофазные электронные (однотарифные)   \n",
       "2              NaN  СЭО-1.15.402  однофазные электронные (однотарифные)   \n",
       "\n",
       "  pu_setup_place               pu_actual_state  odn_is_valuable  \\\n",
       "0    Частный дом  Работает, нет несоответствия                0   \n",
       "1    Частный дом  Работает, нет несоответствия                0   \n",
       "2    Частный дом  Работает, нет несоответствия                0   \n",
       "\n",
       "   calling_is_on  autocalling_is_on  account_type      epd_sign    epd_sign_1  \n",
       "0              0                  0  Однотарифный  2(ОПД с ТКО)  2(ОПД с ТКО)  \n",
       "1              0                  0  Однотарифный  2(ОПД с ТКО)  2(ОПД с ТКО)  \n",
       "2              0                  0  Однотарифный  2(ОПД с ТКО)  2(ОПД с ТКО)  "
      ]
     },
     "execution_count": 14,
     "metadata": {},
     "output_type": "execute_result"
    }
   ],
   "source": [
    "data1.head(3)"
   ]
  },
  {
   "cell_type": "code",
   "execution_count": 15,
   "id": "1a9672a9",
   "metadata": {},
   "outputs": [
    {
     "name": "stdout",
     "output_type": "stream",
     "text": [
      "13\n"
     ]
    },
    {
     "data": {
      "text/plain": [
       "['однофазные электронные (однотарифные)',\n",
       " 'однофазные индукционные (однотарифные)',\n",
       " 'однофазные электронные (многотарифные)',\n",
       " 'трехфазные электронные (многотарифные)',\n",
       " 'трехфазные электронные (однотарифные)',\n",
       " nan,\n",
       " 'трехфазные индукционные (однотарифные)',\n",
       " 'однофазные электронные (двухтарифные)',\n",
       " 'однофазные электронные (трехтарифные)',\n",
       " 'однофазные индукционные (двухтарифные)',\n",
       " 'трехфазные электронные (двухтарифные)',\n",
       " 'трехфазные индукционные (двухтарифные)',\n",
       " 'трехфазные индукционные (многотарифные)']"
      ]
     },
     "execution_count": 15,
     "metadata": {},
     "output_type": "execute_result"
    }
   ],
   "source": [
    "counter_category_list = list(data1.counter_category.unique())\n",
    "print(len(counter_category_list))\n",
    "counter_category_list"
   ]
  },
  {
   "cell_type": "code",
   "execution_count": 16,
   "id": "4dd096e7",
   "metadata": {},
   "outputs": [],
   "source": [
    "s1t = data1.groupby(by = ['counter_category']).count().sort_values(by=['id'],ascending=False).id"
   ]
  },
  {
   "cell_type": "code",
   "execution_count": 17,
   "id": "cf007963",
   "metadata": {},
   "outputs": [
    {
     "data": {
      "text/plain": [
       "counter_category\n",
       "однофазные электронные (многотарифные)     3820718\n",
       "однофазные электронные (однотарифные)      2850576\n",
       "трехфазные электронные (многотарифные)      840524\n",
       "однофазные индукционные (однотарифные)      487168\n",
       "трехфазные электронные (однотарифные)       213005\n",
       "однофазные электронные (двухтарифные)        11442\n",
       "трехфазные индукционные (однотарифные)       10693\n",
       "однофазные индукционные (двухтарифные)        6156\n",
       "трехфазные электронные (двухтарифные)         3174\n",
       "трехфазные индукционные (двухтарифные)         879\n",
       "однофазные электронные (трехтарифные)           59\n",
       "трехфазные индукционные (многотарифные)          1\n",
       "Name: id, dtype: int64"
      ]
     },
     "execution_count": 17,
     "metadata": {},
     "output_type": "execute_result"
    }
   ],
   "source": [
    "s1t"
   ]
  },
  {
   "cell_type": "code",
   "execution_count": 18,
   "id": "2272a071",
   "metadata": {},
   "outputs": [
    {
     "name": "stdout",
     "output_type": "stream",
     "text": [
      "12\n"
     ]
    }
   ],
   "source": [
    "data2 = data1[data1.pu_actual_state=='Работает, нет несоответствия']\n",
    "tariph = list(s1t.index)\n",
    "print(len(tariph))\n",
    "\n",
    "\n",
    "# tariph = ['однофазные электронные (многотарифные)','однофазные электронные (однотарифные)',\n",
    "#          'трехфазные электронные (многотарифные)','однофазные индукционные (однотарифные)',\n",
    "#           'трехфазные электронные (однотарифные)','однофазные электронные (двухтарифные)',\n",
    "#           'трехфазные индукционные (однотарифные)'\n",
    "#          ]\n"
   ]
  },
  {
   "cell_type": "code",
   "execution_count": 19,
   "id": "764e1c3a",
   "metadata": {},
   "outputs": [
    {
     "data": {
      "text/plain": [
       "['однофазные электронные (многотарифные)',\n",
       " 'однофазные электронные (однотарифные)',\n",
       " 'трехфазные электронные (многотарифные)',\n",
       " 'однофазные индукционные (однотарифные)',\n",
       " 'трехфазные электронные (однотарифные)',\n",
       " 'однофазные электронные (двухтарифные)',\n",
       " 'трехфазные индукционные (однотарифные)',\n",
       " 'однофазные индукционные (двухтарифные)',\n",
       " 'трехфазные электронные (двухтарифные)',\n",
       " 'трехфазные индукционные (двухтарифные)',\n",
       " 'однофазные электронные (трехтарифные)',\n",
       " 'трехфазные индукционные (многотарифные)']"
      ]
     },
     "execution_count": 19,
     "metadata": {},
     "output_type": "execute_result"
    }
   ],
   "source": [
    "tariph"
   ]
  },
  {
   "cell_type": "code",
   "execution_count": 20,
   "id": "bd28b872",
   "metadata": {},
   "outputs": [
    {
     "name": "stdout",
     "output_type": "stream",
     "text": [
      "22\n"
     ]
    },
    {
     "data": {
      "text/plain": [
       "type_ls_building\n",
       "Жилой дом                                 7751\n",
       "Частный                                   5559\n",
       "Участок под строительство                 3626\n",
       "Садоводческий участок                     1789\n",
       "Дом блокированной застройки                600\n",
       "Дача                                       545\n",
       "Деревянный                                 427\n",
       "Кирпичный                                  176\n",
       "Хоз. постройки                             131\n",
       "Гараж                                      112\n",
       "Коттедж                                     74\n",
       "Многоквартирный                             66\n",
       "Блочный                                     39\n",
       "Каркасный                                   11\n",
       "Панельный                                   10\n",
       "Баня                                         8\n",
       "Особняк                                      4\n",
       "Повышенной комфортности                      4\n",
       "Пент-хаус                                    3\n",
       "Монолит                                      2\n",
       "Многоквартирный дом, нежилое помещение       1\n",
       "Name: id, dtype: int64"
      ]
     },
     "execution_count": 20,
     "metadata": {},
     "output_type": "execute_result"
    }
   ],
   "source": [
    "type_ls_building_list = list(data1.type_ls_building.unique())\n",
    "print(len(type_ls_building_list))\n",
    "s2t = data1.groupby(by = ['type_ls_building']).count().sort_values(by=['id'],ascending=False).id\n",
    "s2t"
   ]
  },
  {
   "cell_type": "code",
   "execution_count": 40,
   "id": "8463d3a1",
   "metadata": {},
   "outputs": [
    {
     "name": "stdout",
     "output_type": "stream",
     "text": [
      "Жилой дом\n",
      "Частный\n",
      "Участок под строительство\n",
      "Садоводческий участок\n",
      "Дом блокированной застройки\n",
      "Дача\n",
      "Деревянный\n",
      "Кирпичный\n",
      "Хоз. постройки\n",
      "Гараж\n",
      "Коттедж\n",
      "Многоквартирный\n",
      "Блочный\n",
      "Каркасный\n",
      "Панельный\n",
      "Баня\n",
      "Особняк\n",
      "Повышенной комфортности\n",
      "Пент-хаус\n",
      "Монолит\n",
      "Многоквартирный дом, нежилое помещение\n"
     ]
    },
    {
     "data": {
      "image/png": "[encoded data removed]",
      "text/plain": [
       "<Figure size 1440x2160 with 1 Axes>"
      ]
     },
     "metadata": {
      "needs_background": "light"
     },
     "output_type": "display_data"
    }
   ],
   "source": [
    "# data2 = data2[data2.counter_category.isin(tariph)]\n",
    "s1 = 'type_ls_building'\n",
    "s1s= list(s2t.index)\n",
    "result = {}\n",
    "for i in s1s:\n",
    "    print(i)\n",
    "    building = result.setdefault(i, {})\n",
    "    data22 = data2[data2[s1]==i]\n",
    "    for j in tariph:\n",
    "#         print(j)\n",
    "        s1q = data22[data22.counter_category==j].groupby(by = ['counter_type']).count().sort_values(by=['counter_category'],ascending=False)\n",
    "#         print(s1q.shape)\n",
    "        k = np.min([10,s1q.shape[0]])\n",
    "        if not s1q.size:\n",
    "            continue\n",
    "#         print(s1q.index[:k])\n",
    "        building[j] = list(s1q.index[:k])\n",
    "        plt.minorticks_on()\n",
    "        hj = s1q.id[:k].plot(kind='bar',figsize=(20, 30), fontsize=18,title =i+' '+j) \n",
    "        fig = hj.get_figure()\n",
    "\n",
    "        fig.savefig('pic1/'+i+'_'+j+'.jpg')\n",
    "#         print('====================================================')"
   ]
  },
  {
   "cell_type": "code",
   "execution_count": 41,
   "id": "0c44ca96",
   "metadata": {},
   "outputs": [],
   "source": [
    "import yaml, json\n",
    "\n",
    "with open('pu.yaml', 'w') as f:\n",
    "    data = yaml.dump(result, stream=f, allow_unicode=True)\n",
    "with open('pu.json', 'w') as f:\n",
    "    json.dump(data, f, ensure_ascii=False, indent=3)"
   ]
  },
  {
   "cell_type": "code",
   "execution_count": null,
   "id": "9efed71d",
   "metadata": {},
   "outputs": [],
   "source": []
  }
 ],
 "metadata": {
  "kernelspec": {
   "display_name": "Python 3 (ipykernel)",
   "language": "python",
   "name": "python3"
  },
  "language_info": {
   "codemirror_mode": {
    "name": "ipython",
    "version": 3
   },
   "file_extension": ".py",
   "mimetype": "text/x-python",
   "name": "python",
   "nbconvert_exporter": "python",
   "pygments_lexer": "ipython3",
   "version": "3.7.0"
  }
 },
 "nbformat": 4,
 "nbformat_minor": 5
}
