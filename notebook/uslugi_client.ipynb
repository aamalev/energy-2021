{
 "cells": [
  {
   "cell_type": "code",
   "execution_count": 2,
   "id": "82a1eb5c",
   "metadata": {},
   "outputs": [],
   "source": [
    "%matplotlib inline\n",
    "import pandas as pd\n",
    "import numpy as np\n",
    "import matplotlib.pyplot as plt"
   ]
  },
  {
   "cell_type": "code",
   "execution_count": 3,
   "id": "a21f172c",
   "metadata": {},
   "outputs": [
    {
     "name": "stderr",
     "output_type": "stream",
     "text": [
      "/media/tanushenka/MrBig/projects/mosenergosbyt/env37/lib/python3.7/site-packages/IPython/core/interactiveshell.py:3186: DtypeWarning: Columns (3,4) have mixed types.Specify dtype option on import or set low_memory=False.\n",
      "  interactivity=interactivity, compiler=compiler, result=result)\n"
     ]
    }
   ],
   "source": [
    "data1 = pd.read_csv('ch.xackaton_fuv2_bitovie_abon_parametri_dogovora.csv')"
   ]
  },
  {
   "cell_type": "code",
   "execution_count": 8,
   "id": "b6ebb1c7",
   "metadata": {},
   "outputs": [
    {
     "data": {
      "text/html": [
       "<div>\n",
       "<style scoped>\n",
       "    .dataframe tbody tr th:only-of-type {\n",
       "        vertical-align: middle;\n",
       "    }\n",
       "\n",
       "    .dataframe tbody tr th {\n",
       "        vertical-align: top;\n",
       "    }\n",
       "\n",
       "    .dataframe thead th {\n",
       "        text-align: right;\n",
       "    }\n",
       "</style>\n",
       "<table border=\"1\" class=\"dataframe\">\n",
       "  <thead>\n",
       "    <tr style=\"text-align: right;\">\n",
       "      <th></th>\n",
       "      <th>0</th>\n",
       "      <th>1</th>\n",
       "      <th>2</th>\n",
       "      <th>3</th>\n",
       "      <th>4</th>\n",
       "      <th>5</th>\n",
       "      <th>6</th>\n",
       "      <th>7</th>\n",
       "      <th>8</th>\n",
       "      <th>9</th>\n",
       "      <th>...</th>\n",
       "      <th>8244782</th>\n",
       "      <th>8244783</th>\n",
       "      <th>8244784</th>\n",
       "      <th>8244785</th>\n",
       "      <th>8244786</th>\n",
       "      <th>8244787</th>\n",
       "      <th>8244788</th>\n",
       "      <th>8244789</th>\n",
       "      <th>8244790</th>\n",
       "      <th>8244791</th>\n",
       "    </tr>\n",
       "  </thead>\n",
       "  <tbody>\n",
       "    <tr>\n",
       "      <th>id</th>\n",
       "      <td>3003.0</td>\n",
       "      <td>3006.0</td>\n",
       "      <td>3009.0</td>\n",
       "      <td>3012.0</td>\n",
       "      <td>3015.0</td>\n",
       "      <td>3018.0</td>\n",
       "      <td>3021.0</td>\n",
       "      <td>3024.0</td>\n",
       "      <td>3027.0</td>\n",
       "      <td>3030.0</td>\n",
       "      <td>...</td>\n",
       "      <td>297393552.0</td>\n",
       "      <td>297393555.0</td>\n",
       "      <td>297393558.0</td>\n",
       "      <td>297393561.0</td>\n",
       "      <td>297393564.0</td>\n",
       "      <td>297393567.0</td>\n",
       "      <td>297393570.0</td>\n",
       "      <td>297393573.0</td>\n",
       "      <td>297393576.0</td>\n",
       "      <td>297393579.0</td>\n",
       "    </tr>\n",
       "    <tr>\n",
       "      <th>type_ls_building</th>\n",
       "      <td>NaN</td>\n",
       "      <td>NaN</td>\n",
       "      <td>NaN</td>\n",
       "      <td>NaN</td>\n",
       "      <td>NaN</td>\n",
       "      <td>NaN</td>\n",
       "      <td>NaN</td>\n",
       "      <td>NaN</td>\n",
       "      <td>NaN</td>\n",
       "      <td>NaN</td>\n",
       "      <td>...</td>\n",
       "      <td>NaN</td>\n",
       "      <td>NaN</td>\n",
       "      <td>NaN</td>\n",
       "      <td>NaN</td>\n",
       "      <td>NaN</td>\n",
       "      <td>NaN</td>\n",
       "      <td>NaN</td>\n",
       "      <td>NaN</td>\n",
       "      <td>NaN</td>\n",
       "      <td>NaN</td>\n",
       "    </tr>\n",
       "  </tbody>\n",
       "</table>\n",
       "<p>2 rows × 8244792 columns</p>\n",
       "</div>"
      ],
      "text/plain": [
       "                  0        1        2        3        4        5        \\\n",
       "id                 3003.0   3006.0   3009.0   3012.0   3015.0   3018.0   \n",
       "type_ls_building      NaN      NaN      NaN      NaN      NaN      NaN   \n",
       "\n",
       "                  6        7        8        9        ...      8244782  \\\n",
       "id                 3021.0   3024.0   3027.0   3030.0  ...  297393552.0   \n",
       "type_ls_building      NaN      NaN      NaN      NaN  ...          NaN   \n",
       "\n",
       "                      8244783      8244784      8244785      8244786  \\\n",
       "id                297393555.0  297393558.0  297393561.0  297393564.0   \n",
       "type_ls_building          NaN          NaN          NaN          NaN   \n",
       "\n",
       "                      8244787      8244788      8244789      8244790  \\\n",
       "id                297393567.0  297393570.0  297393573.0  297393576.0   \n",
       "type_ls_building          NaN          NaN          NaN          NaN   \n",
       "\n",
       "                      8244791  \n",
       "id                297393579.0  \n",
       "type_ls_building          NaN  \n",
       "\n",
       "[2 rows x 8244792 columns]"
      ]
     },
     "execution_count": 8,
     "metadata": {},
     "output_type": "execute_result"
    }
   ],
   "source": [
    "data = pd.DataFrame(data=[data1.id,data1.type_ls_building])\n",
    "data.head(2)"
   ]
  },
  {
   "cell_type": "code",
   "execution_count": 9,
   "id": "80fe910d",
   "metadata": {},
   "outputs": [],
   "source": [
    "data1 = pd.read_csv('ch.xackaton_suvk_bitovie_abon_parametri.csv')"
   ]
  },
  {
   "cell_type": "code",
   "execution_count": 10,
   "id": "0cb6ecc2",
   "metadata": {},
   "outputs": [
    {
     "data": {
      "text/plain": [
       "array(['Не оплачена', 'Оплачена', 'Информация о платеже', 'Ч/оплата',\n",
       "       'Переплата'], dtype=object)"
      ]
     },
     "execution_count": 10,
     "metadata": {},
     "output_type": "execute_result"
    }
   ],
   "source": [
    "data1.finance_status.unique()"
   ]
  },
  {
   "cell_type": "code",
   "execution_count": 11,
   "id": "5459c91c",
   "metadata": {},
   "outputs": [
    {
     "name": "stdout",
     "output_type": "stream",
     "text": [
      "(1280165, 9)\n"
     ]
    },
    {
     "data": {
      "text/plain": [
       "(549560, 9)"
      ]
     },
     "execution_count": 11,
     "metadata": {},
     "output_type": "execute_result"
    }
   ],
   "source": [
    "print(data1.shape)\n",
    "data1 = data1[data1.finance_status!='Не оплачена']\n",
    "data1.shape"
   ]
  },
  {
   "cell_type": "code",
   "execution_count": 12,
   "id": "797f77c5",
   "metadata": {},
   "outputs": [
    {
     "data": {
      "text/plain": [
       "457229"
      ]
     },
     "execution_count": 12,
     "metadata": {},
     "output_type": "execute_result"
    }
   ],
   "source": [
    "list_good_user = list(data1.id.unique())\n",
    "len(list_good_user)"
   ]
  },
  {
   "cell_type": "code",
   "execution_count": 15,
   "id": "02031c64",
   "metadata": {},
   "outputs": [
    {
     "data": {
      "text/plain": [
       "Index(['dt', 'id', 'request_status', 'request_type', 'topic_level_1',\n",
       "       'topic_level_2', 'topic_level_3', 'task_priority', 'task_status',\n",
       "       'task_type', 'work_done', 'topic_attribute', 'task_number',\n",
       "       'request_number'],\n",
       "      dtype='object')"
      ]
     },
     "execution_count": 15,
     "metadata": {},
     "output_type": "execute_result"
    }
   ],
   "source": [
    "data2.columns"
   ]
  },
  {
   "cell_type": "code",
   "execution_count": 17,
   "id": "8ecd5dce",
   "metadata": {},
   "outputs": [
    {
     "name": "stdout",
     "output_type": "stream",
     "text": [
      "(46765, 14)\n",
      "(35756, 14)\n"
     ]
    },
    {
     "data": {
      "text/plain": [
       "<AxesSubplot:>"
      ]
     },
     "execution_count": 17,
     "metadata": {},
     "output_type": "execute_result"
    },
    {
     "data": {
      "image/png": "[encoded data removed]",
      "text/plain": [
       "<Figure size 432x288 with 1 Axes>"
      ]
     },
     "metadata": {
      "needs_background": "light"
     },
     "output_type": "display_data"
    }
   ],
   "source": [
    "data2 = pd.read_csv('ch.xackaton_suvk_bitovie_abon_obrascheniya_2019_2021.csv')\n",
    "data2 = data2[data2.topic_level_2!='Не определено']\n",
    "list_uslugi = list(data2.topic_level_2.unique())\n",
    "print(data2.shape)\n",
    "data2 = data2[data2.id.isin(list_good_user)]\n",
    "print(data2.shape)\n",
    "data2.topic_level_2.value_counts().plot(kind='bar')"
   ]
  },
  {
   "cell_type": "code",
   "execution_count": 20,
   "id": "55526aaa",
   "metadata": {},
   "outputs": [
    {
     "data": {
      "text/plain": [
       "topic_level_2\n",
       "Установка ПУ водоноснабжения                                                           33170\n",
       "Сантехнические услуги                                                                   1770\n",
       "Электромонтажные работы по устройству внутренних электрических сетей и оборудования      709\n",
       "Установка ПУ тепловой энергии                                                             82\n",
       "Пакетные услуги                                                                           11\n",
       "Другие агентские услуги                                                                    7\n",
       "Организация резервного энергоснабжения                                                     4\n",
       "Модернизация, монтаж и наладка сетей слаботочных систем                                    1\n",
       "Ремонт квартир                                                                             1\n",
       "Установка ПУ газового оборудования                                                         1\n",
       "Name: id, dtype: int64"
      ]
     },
     "execution_count": 20,
     "metadata": {},
     "output_type": "execute_result"
    }
   ],
   "source": [
    "d2 = data2.groupby(by = ['topic_level_2']).count().sort_values(by=['id'],ascending=False).id\n",
    "d2"
   ]
  },
  {
   "cell_type": "code",
   "execution_count": 25,
   "id": "544d50f6",
   "metadata": {},
   "outputs": [
    {
     "data": {
      "text/html": [
       "<div>\n",
       "<style scoped>\n",
       "    .dataframe tbody tr th:only-of-type {\n",
       "        vertical-align: middle;\n",
       "    }\n",
       "\n",
       "    .dataframe tbody tr th {\n",
       "        vertical-align: top;\n",
       "    }\n",
       "\n",
       "    .dataframe thead th {\n",
       "        text-align: right;\n",
       "    }\n",
       "</style>\n",
       "<table border=\"1\" class=\"dataframe\">\n",
       "  <thead>\n",
       "    <tr style=\"text-align: right;\">\n",
       "      <th></th>\n",
       "      <th>id</th>\n",
       "      <th>type_ls_building</th>\n",
       "    </tr>\n",
       "  </thead>\n",
       "  <tbody>\n",
       "    <tr>\n",
       "      <th>0</th>\n",
       "      <td>3003</td>\n",
       "      <td>NaN</td>\n",
       "    </tr>\n",
       "    <tr>\n",
       "      <th>1</th>\n",
       "      <td>3006</td>\n",
       "      <td>NaN</td>\n",
       "    </tr>\n",
       "  </tbody>\n",
       "</table>\n",
       "</div>"
      ],
      "text/plain": [
       "     id type_ls_building\n",
       "0  3003              NaN\n",
       "1  3006              NaN"
      ]
     },
     "execution_count": 25,
     "metadata": {},
     "output_type": "execute_result"
    }
   ],
   "source": [
    "data=data.T\n",
    "data.head(2)\n"
   ]
  },
  {
   "cell_type": "code",
   "execution_count": 29,
   "id": "7cb4c9e7",
   "metadata": {},
   "outputs": [
    {
     "data": {
      "text/plain": [
       "type_ls_building\n",
       "Жилой дом                                 7751\n",
       "Частный                                   5559\n",
       "Участок под строительство                 3626\n",
       "Садоводческий участок                     1789\n",
       "Дом блокированной застройки                600\n",
       "Дача                                       545\n",
       "Деревянный                                 427\n",
       "Кирпичный                                  176\n",
       "Хоз. постройки                             131\n",
       "Гараж                                      112\n",
       "Коттедж                                     74\n",
       "Многоквартирный                             66\n",
       "Блочный                                     39\n",
       "Каркасный                                   11\n",
       "Панельный                                   10\n",
       "Баня                                         8\n",
       "Особняк                                      4\n",
       "Повышенной комфортности                      4\n",
       "Пент-хаус                                    3\n",
       "Монолит                                      2\n",
       "Многоквартирный дом, нежилое помещение       1\n",
       "Name: id, dtype: int64"
      ]
     },
     "execution_count": 29,
     "metadata": {},
     "output_type": "execute_result"
    }
   ],
   "source": [
    "d3 = data.groupby(by = ['type_ls_building']).count().sort_values(by=['id'],ascending=False).id\n",
    "d3"
   ]
  },
  {
   "cell_type": "code",
   "execution_count": 31,
   "id": "4d05495f",
   "metadata": {},
   "outputs": [],
   "source": [
    "data['type_ls_building2']= data.type_ls_building\n",
    "data.type_ls_building2.fillna(value='Жилой дом',inplace=True)"
   ]
  },
  {
   "cell_type": "code",
   "execution_count": 32,
   "id": "5c8b9aa5",
   "metadata": {},
   "outputs": [
    {
     "data": {
      "text/html": [
       "<div>\n",
       "<style scoped>\n",
       "    .dataframe tbody tr th:only-of-type {\n",
       "        vertical-align: middle;\n",
       "    }\n",
       "\n",
       "    .dataframe tbody tr th {\n",
       "        vertical-align: top;\n",
       "    }\n",
       "\n",
       "    .dataframe thead th {\n",
       "        text-align: right;\n",
       "    }\n",
       "</style>\n",
       "<table border=\"1\" class=\"dataframe\">\n",
       "  <thead>\n",
       "    <tr style=\"text-align: right;\">\n",
       "      <th></th>\n",
       "      <th>id</th>\n",
       "      <th>type_ls_building</th>\n",
       "      <th>type_ls_building2</th>\n",
       "    </tr>\n",
       "  </thead>\n",
       "  <tbody>\n",
       "    <tr>\n",
       "      <th>0</th>\n",
       "      <td>3003</td>\n",
       "      <td>NaN</td>\n",
       "      <td>Жилой дом</td>\n",
       "    </tr>\n",
       "    <tr>\n",
       "      <th>1</th>\n",
       "      <td>3006</td>\n",
       "      <td>NaN</td>\n",
       "      <td>Жилой дом</td>\n",
       "    </tr>\n",
       "  </tbody>\n",
       "</table>\n",
       "</div>"
      ],
      "text/plain": [
       "     id type_ls_building type_ls_building2\n",
       "0  3003              NaN         Жилой дом\n",
       "1  3006              NaN         Жилой дом"
      ]
     },
     "execution_count": 32,
     "metadata": {},
     "output_type": "execute_result"
    }
   ],
   "source": [
    "data.head(2)"
   ]
  },
  {
   "cell_type": "code",
   "execution_count": 78,
   "id": "abf6d44d",
   "metadata": {},
   "outputs": [
    {
     "data": {
      "text/plain": [
       "(8244792, 4)"
      ]
     },
     "execution_count": 78,
     "metadata": {},
     "output_type": "execute_result"
    }
   ],
   "source": [
    "data.shape"
   ]
  },
  {
   "cell_type": "code",
   "execution_count": 79,
   "id": "7e8a31a9",
   "metadata": {},
   "outputs": [
    {
     "data": {
      "text/plain": [
       "8229204"
      ]
     },
     "execution_count": 79,
     "metadata": {},
     "output_type": "execute_result"
    }
   ],
   "source": [
    "len(data.id.unique())"
   ]
  },
  {
   "cell_type": "code",
   "execution_count": 88,
   "id": "3764c505",
   "metadata": {},
   "outputs": [
    {
     "data": {
      "text/html": [
       "<div>\n",
       "<style scoped>\n",
       "    .dataframe tbody tr th:only-of-type {\n",
       "        vertical-align: middle;\n",
       "    }\n",
       "\n",
       "    .dataframe tbody tr th {\n",
       "        vertical-align: top;\n",
       "    }\n",
       "\n",
       "    .dataframe thead th {\n",
       "        text-align: right;\n",
       "    }\n",
       "</style>\n",
       "<table border=\"1\" class=\"dataframe\">\n",
       "  <thead>\n",
       "    <tr style=\"text-align: right;\">\n",
       "      <th></th>\n",
       "      <th>dt</th>\n",
       "      <th>id</th>\n",
       "      <th>request_status</th>\n",
       "      <th>request_type</th>\n",
       "      <th>topic_level_1</th>\n",
       "      <th>topic_level_2</th>\n",
       "      <th>topic_level_3</th>\n",
       "      <th>task_priority</th>\n",
       "      <th>task_status</th>\n",
       "      <th>task_type</th>\n",
       "      <th>work_done</th>\n",
       "      <th>topic_attribute</th>\n",
       "      <th>task_number</th>\n",
       "      <th>request_number</th>\n",
       "      <th>type_ls_building2</th>\n",
       "    </tr>\n",
       "  </thead>\n",
       "  <tbody>\n",
       "    <tr>\n",
       "      <th>5589803</th>\n",
       "      <td>2020-07-10</td>\n",
       "      <td>67911600</td>\n",
       "      <td>обработано с заданием</td>\n",
       "      <td>Личная явка</td>\n",
       "      <td>Не определено</td>\n",
       "      <td>Установка ПУ водоноснабжения</td>\n",
       "      <td>Агентские услуги</td>\n",
       "      <td>Средний</td>\n",
       "      <td>Создана заявка КУ</td>\n",
       "      <td>Платная заявка</td>\n",
       "      <td>NaN</td>\n",
       "      <td>Другое</td>\n",
       "      <td>458695672,0</td>\n",
       "      <td>677541762,0</td>\n",
       "      <td>Жилой дом</td>\n",
       "    </tr>\n",
       "    <tr>\n",
       "      <th>5589913</th>\n",
       "      <td>2020-07-10</td>\n",
       "      <td>68370060</td>\n",
       "      <td>обработано с заданием</td>\n",
       "      <td>Личная явка</td>\n",
       "      <td>Не определено</td>\n",
       "      <td>Установка ПУ водоноснабжения</td>\n",
       "      <td>Агентские услуги</td>\n",
       "      <td>Средний</td>\n",
       "      <td>Создана заявка КУ</td>\n",
       "      <td>Платная заявка</td>\n",
       "      <td>NaN</td>\n",
       "      <td>Другое</td>\n",
       "      <td>458662362,0</td>\n",
       "      <td>677495312,0</td>\n",
       "      <td>Жилой дом</td>\n",
       "    </tr>\n",
       "  </tbody>\n",
       "</table>\n",
       "</div>"
      ],
      "text/plain": [
       "                 dt        id         request_status request_type  \\\n",
       "5589803  2020-07-10  67911600  обработано с заданием  Личная явка   \n",
       "5589913  2020-07-10  68370060  обработано с заданием  Личная явка   \n",
       "\n",
       "         topic_level_1                 topic_level_2     topic_level_3  \\\n",
       "5589803  Не определено  Установка ПУ водоноснабжения  Агентские услуги   \n",
       "5589913  Не определено  Установка ПУ водоноснабжения  Агентские услуги   \n",
       "\n",
       "        task_priority        task_status       task_type work_done  \\\n",
       "5589803       Средний  Создана заявка КУ  Платная заявка       NaN   \n",
       "5589913       Средний  Создана заявка КУ  Платная заявка       NaN   \n",
       "\n",
       "        topic_attribute  task_number request_number type_ls_building2  \n",
       "5589803          Другое  458695672,0    677541762,0         Жилой дом  \n",
       "5589913          Другое  458662362,0    677495312,0         Жилой дом  "
      ]
     },
     "execution_count": 88,
     "metadata": {},
     "output_type": "execute_result"
    }
   ],
   "source": [
    "data2['type_ls_building2'] = data2['request_type']\n",
    "data_id = data.set_index('id')\n",
    "\n",
    "def get_building(i):\n",
    "    try:\n",
    "        z = data_id.loc[i].type_ls_building2\n",
    "        if isinstance(z, pd.Series):\n",
    "            return z.iloc[0]\n",
    "        else:\n",
    "            return z\n",
    "    except KeyError:\n",
    "        return 'Жилой дом'\n",
    "\n",
    "data2['type_ls_building2'] = data2.id.apply(get_building)\n",
    "data2.tail(2)\n"
   ]
  },
  {
   "cell_type": "code",
   "execution_count": null,
   "id": "6536213e",
   "metadata": {},
   "outputs": [],
   "source": []
  },
  {
   "cell_type": "code",
   "execution_count": 97,
   "id": "f497fcaa",
   "metadata": {},
   "outputs": [],
   "source": [
    "data2.to_csv('data2.csv',index=False)\n"
   ]
  },
  {
   "cell_type": "code",
   "execution_count": 96,
   "id": "ee4b8612",
   "metadata": {},
   "outputs": [
    {
     "data": {
      "text/html": [
       "<div>\n",
       "<style scoped>\n",
       "    .dataframe tbody tr th:only-of-type {\n",
       "        vertical-align: middle;\n",
       "    }\n",
       "\n",
       "    .dataframe tbody tr th {\n",
       "        vertical-align: top;\n",
       "    }\n",
       "\n",
       "    .dataframe thead th {\n",
       "        text-align: right;\n",
       "    }\n",
       "</style>\n",
       "<table border=\"1\" class=\"dataframe\">\n",
       "  <thead>\n",
       "    <tr style=\"text-align: right;\">\n",
       "      <th></th>\n",
       "      <th>dt</th>\n",
       "      <th>id</th>\n",
       "      <th>request_status</th>\n",
       "      <th>request_type</th>\n",
       "      <th>topic_level_1</th>\n",
       "      <th>topic_level_2</th>\n",
       "      <th>topic_level_3</th>\n",
       "      <th>task_priority</th>\n",
       "      <th>task_status</th>\n",
       "      <th>task_type</th>\n",
       "      <th>work_done</th>\n",
       "      <th>topic_attribute</th>\n",
       "      <th>task_number</th>\n",
       "      <th>request_number</th>\n",
       "      <th>type_ls_building2</th>\n",
       "    </tr>\n",
       "  </thead>\n",
       "  <tbody>\n",
       "    <tr>\n",
       "      <th>5589803</th>\n",
       "      <td>2020-07-10</td>\n",
       "      <td>67911600</td>\n",
       "      <td>обработано с заданием</td>\n",
       "      <td>Личная явка</td>\n",
       "      <td>Не определено</td>\n",
       "      <td>Установка ПУ водоноснабжения</td>\n",
       "      <td>Агентские услуги</td>\n",
       "      <td>Средний</td>\n",
       "      <td>Создана заявка КУ</td>\n",
       "      <td>Платная заявка</td>\n",
       "      <td>NaN</td>\n",
       "      <td>Другое</td>\n",
       "      <td>458695672,0</td>\n",
       "      <td>677541762,0</td>\n",
       "      <td>Жилой дом</td>\n",
       "    </tr>\n",
       "    <tr>\n",
       "      <th>5589913</th>\n",
       "      <td>2020-07-10</td>\n",
       "      <td>68370060</td>\n",
       "      <td>обработано с заданием</td>\n",
       "      <td>Личная явка</td>\n",
       "      <td>Не определено</td>\n",
       "      <td>Установка ПУ водоноснабжения</td>\n",
       "      <td>Агентские услуги</td>\n",
       "      <td>Средний</td>\n",
       "      <td>Создана заявка КУ</td>\n",
       "      <td>Платная заявка</td>\n",
       "      <td>NaN</td>\n",
       "      <td>Другое</td>\n",
       "      <td>458662362,0</td>\n",
       "      <td>677495312,0</td>\n",
       "      <td>Жилой дом</td>\n",
       "    </tr>\n",
       "  </tbody>\n",
       "</table>\n",
       "</div>"
      ],
      "text/plain": [
       "                 dt        id         request_status request_type  \\\n",
       "5589803  2020-07-10  67911600  обработано с заданием  Личная явка   \n",
       "5589913  2020-07-10  68370060  обработано с заданием  Личная явка   \n",
       "\n",
       "         topic_level_1                 topic_level_2     topic_level_3  \\\n",
       "5589803  Не определено  Установка ПУ водоноснабжения  Агентские услуги   \n",
       "5589913  Не определено  Установка ПУ водоноснабжения  Агентские услуги   \n",
       "\n",
       "        task_priority        task_status       task_type work_done  \\\n",
       "5589803       Средний  Создана заявка КУ  Платная заявка       NaN   \n",
       "5589913       Средний  Создана заявка КУ  Платная заявка       NaN   \n",
       "\n",
       "        topic_attribute  task_number request_number type_ls_building2  \n",
       "5589803          Другое  458695672,0    677541762,0         Жилой дом  \n",
       "5589913          Другое  458662362,0    677495312,0         Жилой дом  "
      ]
     },
     "execution_count": 96,
     "metadata": {},
     "output_type": "execute_result"
    }
   ],
   "source": [
    "data2.tail(2)"
   ]
  },
  {
   "cell_type": "code",
   "execution_count": 98,
   "id": "67744f17",
   "metadata": {},
   "outputs": [
    {
     "data": {
      "text/html": [
       "<div>\n",
       "<style scoped>\n",
       "    .dataframe tbody tr th:only-of-type {\n",
       "        vertical-align: middle;\n",
       "    }\n",
       "\n",
       "    .dataframe tbody tr th {\n",
       "        vertical-align: top;\n",
       "    }\n",
       "\n",
       "    .dataframe thead th {\n",
       "        text-align: right;\n",
       "    }\n",
       "</style>\n",
       "<table border=\"1\" class=\"dataframe\">\n",
       "  <thead>\n",
       "    <tr style=\"text-align: right;\">\n",
       "      <th></th>\n",
       "      <th>dt</th>\n",
       "      <th>id</th>\n",
       "      <th>request_status</th>\n",
       "      <th>request_type</th>\n",
       "      <th>topic_level_1</th>\n",
       "      <th>topic_level_2</th>\n",
       "      <th>topic_level_3</th>\n",
       "      <th>task_priority</th>\n",
       "      <th>task_status</th>\n",
       "      <th>task_type</th>\n",
       "      <th>work_done</th>\n",
       "      <th>topic_attribute</th>\n",
       "      <th>task_number</th>\n",
       "      <th>request_number</th>\n",
       "      <th>type_ls_building2</th>\n",
       "    </tr>\n",
       "  </thead>\n",
       "  <tbody>\n",
       "    <tr>\n",
       "      <th>219172</th>\n",
       "      <td>2019-09-11</td>\n",
       "      <td>13194174</td>\n",
       "      <td>обработано с заданием</td>\n",
       "      <td>Личная явка</td>\n",
       "      <td>Не определено</td>\n",
       "      <td>Установка ПУ водоноснабжения</td>\n",
       "      <td>Агентские услуги</td>\n",
       "      <td>Средний</td>\n",
       "      <td>Создана заявка КУ</td>\n",
       "      <td>Платная заявка</td>\n",
       "      <td>NaN</td>\n",
       "      <td>Другое</td>\n",
       "      <td>435940062,0</td>\n",
       "      <td>646935812,0</td>\n",
       "      <td>Частный</td>\n",
       "    </tr>\n",
       "    <tr>\n",
       "      <th>239791</th>\n",
       "      <td>2020-07-24</td>\n",
       "      <td>119826108</td>\n",
       "      <td>обработано с заданием</td>\n",
       "      <td>Личная явка</td>\n",
       "      <td>Не определено</td>\n",
       "      <td>Электромонтажные работы по устройству внутренн...</td>\n",
       "      <td>Агентские услуги</td>\n",
       "      <td>Средний</td>\n",
       "      <td>Создана заявка КУ</td>\n",
       "      <td>Платная заявка</td>\n",
       "      <td>NaN</td>\n",
       "      <td>Сотрудник Мосэнергосбыта</td>\n",
       "      <td>459613252,0</td>\n",
       "      <td>678701572,0</td>\n",
       "      <td>Садоводческий участок</td>\n",
       "    </tr>\n",
       "    <tr>\n",
       "      <th>383908</th>\n",
       "      <td>2020-08-10</td>\n",
       "      <td>2220456</td>\n",
       "      <td>обработано с заданием</td>\n",
       "      <td>Личная явка</td>\n",
       "      <td>Не определено</td>\n",
       "      <td>Установка ПУ водоноснабжения</td>\n",
       "      <td>Агентские услуги</td>\n",
       "      <td>Средний</td>\n",
       "      <td>Создана заявка КУ</td>\n",
       "      <td>Платная заявка</td>\n",
       "      <td>NaN</td>\n",
       "      <td>Другое</td>\n",
       "      <td>460291122,0</td>\n",
       "      <td>679753582,0</td>\n",
       "      <td>Гараж</td>\n",
       "    </tr>\n",
       "  </tbody>\n",
       "</table>\n",
       "</div>"
      ],
      "text/plain": [
       "                dt         id         request_status request_type  \\\n",
       "219172  2019-09-11   13194174  обработано с заданием  Личная явка   \n",
       "239791  2020-07-24  119826108  обработано с заданием  Личная явка   \n",
       "383908  2020-08-10    2220456  обработано с заданием  Личная явка   \n",
       "\n",
       "        topic_level_1                                      topic_level_2  \\\n",
       "219172  Не определено                       Установка ПУ водоноснабжения   \n",
       "239791  Не определено  Электромонтажные работы по устройству внутренн...   \n",
       "383908  Не определено                       Установка ПУ водоноснабжения   \n",
       "\n",
       "           topic_level_3 task_priority        task_status       task_type  \\\n",
       "219172  Агентские услуги       Средний  Создана заявка КУ  Платная заявка   \n",
       "239791  Агентские услуги       Средний  Создана заявка КУ  Платная заявка   \n",
       "383908  Агентские услуги       Средний  Создана заявка КУ  Платная заявка   \n",
       "\n",
       "       work_done           topic_attribute  task_number request_number  \\\n",
       "219172       NaN                    Другое  435940062,0    646935812,0   \n",
       "239791       NaN  Сотрудник Мосэнергосбыта  459613252,0    678701572,0   \n",
       "383908       NaN                    Другое  460291122,0    679753582,0   \n",
       "\n",
       "            type_ls_building2  \n",
       "219172                Частный  \n",
       "239791  Садоводческий участок  \n",
       "383908                  Гараж  "
      ]
     },
     "execution_count": 98,
     "metadata": {},
     "output_type": "execute_result"
    }
   ],
   "source": [
    "# sdd=list(data2.type_ls_building2.unique())\n",
    "# sdd\n",
    "data2[data2.type_ls_building2!=\"Жилой дом\"][:3]"
   ]
  },
  {
   "cell_type": "code",
   "execution_count": 127,
   "id": "880f186e",
   "metadata": {},
   "outputs": [
    {
     "name": "stderr",
     "output_type": "stream",
     "text": [
      "/media/tanushenka/MrBig/projects/mosenergosbyt/env37/lib/python3.7/site-packages/ipykernel_launcher.py:3: SettingWithCopyWarning: \n",
      "A value is trying to be set on a copy of a slice from a DataFrame.\n",
      "Try using .loc[row_indexer,col_indexer] = value instead\n",
      "\n",
      "See the caveats in the documentation: https://pandas.pydata.org/pandas-docs/stable/user_guide/indexing.html#returning-a-view-versus-a-copy\n",
      "  This is separate from the ipykernel package so we can avoid doing imports until\n",
      "/media/tanushenka/MrBig/projects/mosenergosbyt/env37/lib/python3.7/site-packages/pandas/core/indexing.py:670: SettingWithCopyWarning: \n",
      "A value is trying to be set on a copy of a slice from a DataFrame\n",
      "\n",
      "See the caveats in the documentation: https://pandas.pydata.org/pandas-docs/stable/user_guide/indexing.html#returning-a-view-versus-a-copy\n",
      "  iloc._setitem_with_indexer(indexer, value)\n",
      "/media/tanushenka/MrBig/projects/mosenergosbyt/env37/lib/python3.7/site-packages/ipykernel_launcher.py:12: SettingWithCopyWarning: \n",
      "A value is trying to be set on a copy of a slice from a DataFrame\n",
      "\n",
      "See the caveats in the documentation: https://pandas.pydata.org/pandas-docs/stable/user_guide/indexing.html#returning-a-view-versus-a-copy\n",
      "  if sys.path[0] == '':\n"
     ]
    },
    {
     "data": {
      "text/html": [
       "<div>\n",
       "<style scoped>\n",
       "    .dataframe tbody tr th:only-of-type {\n",
       "        vertical-align: middle;\n",
       "    }\n",
       "\n",
       "    .dataframe tbody tr th {\n",
       "        vertical-align: top;\n",
       "    }\n",
       "\n",
       "    .dataframe thead th {\n",
       "        text-align: right;\n",
       "    }\n",
       "</style>\n",
       "<table border=\"1\" class=\"dataframe\">\n",
       "  <thead>\n",
       "    <tr style=\"text-align: right;\">\n",
       "      <th></th>\n",
       "      <th>id</th>\n",
       "      <th>type_ls_building</th>\n",
       "      <th>type_ls_building2</th>\n",
       "      <th>uslugi</th>\n",
       "    </tr>\n",
       "  </thead>\n",
       "  <tbody>\n",
       "    <tr>\n",
       "      <th>6657</th>\n",
       "      <td>97182</td>\n",
       "      <td>Частный</td>\n",
       "      <td>Частный</td>\n",
       "      <td>(Установка ПУ водоноснабжения)</td>\n",
       "    </tr>\n",
       "    <tr>\n",
       "      <th>20689</th>\n",
       "      <td>174723</td>\n",
       "      <td>Многоквартирный</td>\n",
       "      <td>Многоквартирный</td>\n",
       "      <td>()</td>\n",
       "    </tr>\n",
       "    <tr>\n",
       "      <th>85298</th>\n",
       "      <td>927747</td>\n",
       "      <td>Многоквартирный</td>\n",
       "      <td>Многоквартирный</td>\n",
       "      <td>()</td>\n",
       "    </tr>\n",
       "    <tr>\n",
       "      <th>135333</th>\n",
       "      <td>1401945</td>\n",
       "      <td>Частный</td>\n",
       "      <td>Частный</td>\n",
       "      <td>(Установка ПУ водоноснабжения)</td>\n",
       "    </tr>\n",
       "    <tr>\n",
       "      <th>136175</th>\n",
       "      <td>1425042</td>\n",
       "      <td>Деревянный</td>\n",
       "      <td>Деревянный</td>\n",
       "      <td>()</td>\n",
       "    </tr>\n",
       "    <tr>\n",
       "      <th>...</th>\n",
       "      <td>...</td>\n",
       "      <td>...</td>\n",
       "      <td>...</td>\n",
       "      <td>...</td>\n",
       "    </tr>\n",
       "    <tr>\n",
       "      <th>7849654</th>\n",
       "      <td>286285563</td>\n",
       "      <td>Частный</td>\n",
       "      <td>Частный</td>\n",
       "      <td>(Установка ПУ водоноснабжения)</td>\n",
       "    </tr>\n",
       "    <tr>\n",
       "      <th>7849681</th>\n",
       "      <td>286285644</td>\n",
       "      <td>Участок под строительство</td>\n",
       "      <td>Участок под строительство</td>\n",
       "      <td>()</td>\n",
       "    </tr>\n",
       "    <tr>\n",
       "      <th>7849682</th>\n",
       "      <td>286285647</td>\n",
       "      <td>Участок под строительство</td>\n",
       "      <td>Участок под строительство</td>\n",
       "      <td>()</td>\n",
       "    </tr>\n",
       "    <tr>\n",
       "      <th>7849728</th>\n",
       "      <td>286285785</td>\n",
       "      <td>Участок под строительство</td>\n",
       "      <td>Участок под строительство</td>\n",
       "      <td>()</td>\n",
       "    </tr>\n",
       "    <tr>\n",
       "      <th>7996803</th>\n",
       "      <td>290157042</td>\n",
       "      <td>Многоквартирный</td>\n",
       "      <td>Многоквартирный</td>\n",
       "      <td>()</td>\n",
       "    </tr>\n",
       "  </tbody>\n",
       "</table>\n",
       "<p>13187 rows × 4 columns</p>\n",
       "</div>"
      ],
      "text/plain": [
       "                id           type_ls_building          type_ls_building2  \\\n",
       "6657         97182                    Частный                    Частный   \n",
       "20689       174723            Многоквартирный            Многоквартирный   \n",
       "85298       927747            Многоквартирный            Многоквартирный   \n",
       "135333     1401945                    Частный                    Частный   \n",
       "136175     1425042                 Деревянный                 Деревянный   \n",
       "...            ...                        ...                        ...   \n",
       "7849654  286285563                    Частный                    Частный   \n",
       "7849681  286285644  Участок под строительство  Участок под строительство   \n",
       "7849682  286285647  Участок под строительство  Участок под строительство   \n",
       "7849728  286285785  Участок под строительство  Участок под строительство   \n",
       "7996803  290157042            Многоквартирный            Многоквартирный   \n",
       "\n",
       "                                 uslugi  \n",
       "6657     (Установка ПУ водоноснабжения)  \n",
       "20689                                ()  \n",
       "85298                                ()  \n",
       "135333   (Установка ПУ водоноснабжения)  \n",
       "136175                               ()  \n",
       "...                                 ...  \n",
       "7849654  (Установка ПУ водоноснабжения)  \n",
       "7849681                              ()  \n",
       "7849682                              ()  \n",
       "7849728                              ()  \n",
       "7996803                              ()  \n",
       "\n",
       "[13187 rows x 4 columns]"
      ]
     },
     "execution_count": 127,
     "metadata": {},
     "output_type": "execute_result"
    }
   ],
   "source": [
    "#не жилой дом\n",
    "i2 = 0\n",
    "data_ = data[data.type_ls_building2!='Жилой дом']#[110:150]\n",
    "data_['uslugi']= data.apply(lambda n: [])\n",
    "for row in data_.itertuples():\n",
    "#     print(row)\n",
    "    p = data2[data2.type_ls_building2==row.type_ls_building2].topic_level_2\n",
    "    p2 = set()\n",
    "    for i in p:\n",
    "        p2.add(i)\n",
    "#     print(len(p2))\n",
    "    \n",
    "    data_.uslugi.iloc[i2]=frozenset(p2)\n",
    "    i2 +=1\n",
    "data_  "
   ]
  },
  {
   "cell_type": "code",
   "execution_count": 135,
   "id": "11e0c7dd",
   "metadata": {},
   "outputs": [
    {
     "name": "stderr",
     "output_type": "stream",
     "text": [
      "/media/tanushenka/MrBig/projects/mosenergosbyt/env37/lib/python3.7/site-packages/pandas/core/indexing.py:670: SettingWithCopyWarning: \n",
      "A value is trying to be set on a copy of a slice from a DataFrame\n",
      "\n",
      "See the caveats in the documentation: https://pandas.pydata.org/pandas-docs/stable/user_guide/indexing.html#returning-a-view-versus-a-copy\n",
      "  iloc._setitem_with_indexer(indexer, value)\n"
     ]
    }
   ],
   "source": [
    "i2 = 0\n",
    "data2_ = data[data.type_ls_building2=='Жилой дом'][:50]\n",
    "data2_['uslugi']= data.apply(lambda n: [])\n",
    "for row in data2_.itertuples():\n",
    "#     print(row)\n",
    "    p = data2[data2.type_ls_building2==row.type_ls_building2].topic_level_2\n",
    "    p2 = set()\n",
    "    for i in p:\n",
    "        p2.add(i)\n",
    "#     print(len(p2))\n",
    "    \n",
    "    data2_.uslugi.iloc[i2]=frozenset(p2)\n",
    "    i2 +=1\n",
    " "
   ]
  },
  {
   "cell_type": "code",
   "execution_count": 137,
   "id": "31b54f3f",
   "metadata": {},
   "outputs": [],
   "source": [
    "# data2_"
   ]
  },
  {
   "cell_type": "code",
   "execution_count": 133,
   "id": "89ccf336",
   "metadata": {},
   "outputs": [],
   "source": [
    "s=set(data.type_ls_building2.unique())-set(fg.type_ls_building2.unique())"
   ]
  },
  {
   "cell_type": "code",
   "execution_count": 134,
   "id": "52ab809a",
   "metadata": {},
   "outputs": [
    {
     "data": {
      "text/plain": [
       "{'Гараж',\n",
       " 'Дом блокированной застройки',\n",
       " 'Жилой дом',\n",
       " 'Коттедж',\n",
       " 'Садоводческий участок',\n",
       " 'Частный'}"
      ]
     },
     "execution_count": 134,
     "metadata": {},
     "output_type": "execute_result"
    }
   ],
   "source": [
    "s"
   ]
  },
  {
   "cell_type": "code",
   "execution_count": 131,
   "id": "32930d9c",
   "metadata": {},
   "outputs": [
    {
     "name": "stdout",
     "output_type": "stream",
     "text": [
      "15\n"
     ]
    },
    {
     "data": {
      "text/plain": [
       "array(['Многоквартирный', 'Деревянный', 'Панельный', 'Блочный',\n",
       "       'Каркасный', 'Кирпичный', 'Участок под строительство',\n",
       "       'Хоз. постройки', 'Дача', 'Повышенной комфортности', 'Монолит',\n",
       "       'Особняк', 'Баня', 'Многоквартирный дом, нежилое помещение',\n",
       "       'Пент-хаус'], dtype=object)"
      ]
     },
     "execution_count": 131,
     "metadata": {},
     "output_type": "execute_result"
    }
   ],
   "source": [
    "fg = data_[data_.uslugi==frozenset()]#.groupby(by = ['uslugi'])\n",
    "print(len(fg.type_ls_building2.unique()))\n",
    "fg.type_ls_building2.unique()\n"
   ]
  },
  {
   "cell_type": "code",
   "execution_count": 148,
   "id": "9301eacc",
   "metadata": {},
   "outputs": [],
   "source": [
    "s1 = ['Многоквартирный', 'Панельный',\n",
    "        'Кирпичный', 'Повышенной комфортности', 'Монолит','Пент-хаус']\n",
    "\n",
    "s2= ['Деревянный','Блочный','Каркасный','Особняк']\n",
    "s3 = ['Участок под строительство','Хоз. постройки','Баня','Многоквартирный дом, нежилое помещение']\n",
    "s4 = ['Дача']"
   ]
  },
  {
   "cell_type": "code",
   "execution_count": 128,
   "id": "15e12457",
   "metadata": {},
   "outputs": [
    {
     "data": {
      "text/plain": [
       "array([frozenset({'Установка ПУ водоноснабжения'}), frozenset(),\n",
       "       frozenset({'Электромонтажные работы по устройству внутренних электрических сетей и оборудования'})],\n",
       "      dtype=object)"
      ]
     },
     "execution_count": 128,
     "metadata": {},
     "output_type": "execute_result"
    }
   ],
   "source": [
    "# data_.uslugi.unique()"
   ]
  },
  {
   "cell_type": "code",
   "execution_count": 141,
   "id": "19cd67b8",
   "metadata": {},
   "outputs": [
    {
     "data": {
      "text/plain": [
       "frozenset({'Электромонтажные работы по устройству внутренних электрических сетей и оборудования'})"
      ]
     },
     "execution_count": 141,
     "metadata": {},
     "output_type": "execute_result"
    }
   ],
   "source": [
    "data_[data_.type_ls_building2=='Садоводческий участок'].uslugi.iloc[0]"
   ]
  },
  {
   "cell_type": "code",
   "execution_count": 142,
   "id": "6a4cadd1",
   "metadata": {},
   "outputs": [
    {
     "data": {
      "text/plain": [
       "frozenset({'Установка ПУ водоноснабжения'})"
      ]
     },
     "execution_count": 142,
     "metadata": {},
     "output_type": "execute_result"
    }
   ],
   "source": [
    "data_[data_.type_ls_building2=='Гараж'].uslugi.iloc[0]"
   ]
  },
  {
   "cell_type": "code",
   "execution_count": 143,
   "id": "8ff1f0cb",
   "metadata": {},
   "outputs": [
    {
     "data": {
      "text/plain": [
       "frozenset({'Установка ПУ водоноснабжения'})"
      ]
     },
     "execution_count": 143,
     "metadata": {},
     "output_type": "execute_result"
    }
   ],
   "source": [
    "data_[data_.type_ls_building2=='Коттедж'].uslugi.iloc[0]"
   ]
  },
  {
   "cell_type": "code",
   "execution_count": 146,
   "id": "5877b0eb",
   "metadata": {},
   "outputs": [],
   "source": [
    "zhp=data2_.uslugi.iloc[0]\n",
    "garazh = data_[data_.type_ls_building2=='Гараж'].uslugi.iloc[0]\n",
    "cottege = data_[data_.type_ls_building2=='Коттедж'].uslugi.iloc[0]\n",
    "dacha = data_[data_.type_ls_building2=='Садоводческий участок'].uslugi.iloc[0]"
   ]
  },
  {
   "cell_type": "code",
   "execution_count": null,
   "id": "dc085954",
   "metadata": {},
   "outputs": [],
   "source": []
  },
  {
   "cell_type": "code",
   "execution_count": 153,
   "id": "6495ff50",
   "metadata": {},
   "outputs": [
    {
     "name": "stderr",
     "output_type": "stream",
     "text": [
      "/media/tanushenka/MrBig/projects/mosenergosbyt/env37/lib/python3.7/site-packages/ipykernel_launcher.py:15: SettingWithCopyWarning: \n",
      "A value is trying to be set on a copy of a slice from a DataFrame.\n",
      "Try using .loc[row_indexer,col_indexer] = value instead\n",
      "\n",
      "See the caveats in the documentation: https://pandas.pydata.org/pandas-docs/stable/user_guide/indexing.html#returning-a-view-versus-a-copy\n",
      "  from ipykernel import kernelapp as app\n"
     ]
    }
   ],
   "source": [
    "def get_uslugi(row):\n",
    "#     print(row)\n",
    "    b = row.type_ls_building2\n",
    "    if b in s1:\n",
    "        return zhp\n",
    "    elif b in s2:\n",
    "        return cottege\n",
    "    elif b in s3:\n",
    "        return garazh\n",
    "    elif b in s4:\n",
    "        return dacha\n",
    "    else:\n",
    "        return row.uslugi\n",
    "\n",
    "data_['uslugi'] = data_.apply(get_uslugi, axis=1)\n"
   ]
  },
  {
   "cell_type": "code",
   "execution_count": 158,
   "id": "f4778931",
   "metadata": {},
   "outputs": [],
   "source": [
    "data_.to_csv('uslugi.csv',index=False)"
   ]
  },
  {
   "cell_type": "code",
   "execution_count": 155,
   "id": "86fb75a3",
   "metadata": {},
   "outputs": [
    {
     "data": {
      "text/html": [
       "<div>\n",
       "<style scoped>\n",
       "    .dataframe tbody tr th:only-of-type {\n",
       "        vertical-align: middle;\n",
       "    }\n",
       "\n",
       "    .dataframe tbody tr th {\n",
       "        vertical-align: top;\n",
       "    }\n",
       "\n",
       "    .dataframe thead th {\n",
       "        text-align: right;\n",
       "    }\n",
       "</style>\n",
       "<table border=\"1\" class=\"dataframe\">\n",
       "  <thead>\n",
       "    <tr style=\"text-align: right;\">\n",
       "      <th></th>\n",
       "      <th>dt</th>\n",
       "      <th>id</th>\n",
       "      <th>request_status</th>\n",
       "      <th>request_type</th>\n",
       "      <th>topic_level_1</th>\n",
       "      <th>topic_level_2</th>\n",
       "      <th>topic_level_3</th>\n",
       "      <th>task_priority</th>\n",
       "      <th>task_status</th>\n",
       "      <th>task_type</th>\n",
       "      <th>work_done</th>\n",
       "      <th>topic_attribute</th>\n",
       "      <th>task_number</th>\n",
       "      <th>request_number</th>\n",
       "      <th>type_ls_building2</th>\n",
       "    </tr>\n",
       "  </thead>\n",
       "  <tbody>\n",
       "    <tr>\n",
       "      <th>7</th>\n",
       "      <td>2019-09-02</td>\n",
       "      <td>30429</td>\n",
       "      <td>обработано с заданием</td>\n",
       "      <td>Личная явка</td>\n",
       "      <td>Не определено</td>\n",
       "      <td>Установка ПУ водоноснабжения</td>\n",
       "      <td>Агентские услуги</td>\n",
       "      <td>Средний</td>\n",
       "      <td>Создана заявка КУ</td>\n",
       "      <td>Платная заявка</td>\n",
       "      <td>NaN</td>\n",
       "      <td>Другое</td>\n",
       "      <td>434994502,0</td>\n",
       "      <td>645733932,0</td>\n",
       "      <td>Жилой дом</td>\n",
       "    </tr>\n",
       "    <tr>\n",
       "      <th>196</th>\n",
       "      <td>2019-09-02</td>\n",
       "      <td>2268012</td>\n",
       "      <td>обработано с заданием</td>\n",
       "      <td>Личная явка</td>\n",
       "      <td>Не определено</td>\n",
       "      <td>Установка ПУ водоноснабжения</td>\n",
       "      <td>Агентские услуги</td>\n",
       "      <td>Средний</td>\n",
       "      <td>Создана заявка КУ</td>\n",
       "      <td>Платная заявка</td>\n",
       "      <td>NaN</td>\n",
       "      <td>Другое</td>\n",
       "      <td>434956332,0</td>\n",
       "      <td>645682292,0</td>\n",
       "      <td>Жилой дом</td>\n",
       "    </tr>\n",
       "  </tbody>\n",
       "</table>\n",
       "</div>"
      ],
      "text/plain": [
       "             dt       id         request_status request_type  topic_level_1  \\\n",
       "7    2019-09-02    30429  обработано с заданием  Личная явка  Не определено   \n",
       "196  2019-09-02  2268012  обработано с заданием  Личная явка  Не определено   \n",
       "\n",
       "                    topic_level_2     topic_level_3 task_priority  \\\n",
       "7    Установка ПУ водоноснабжения  Агентские услуги       Средний   \n",
       "196  Установка ПУ водоноснабжения  Агентские услуги       Средний   \n",
       "\n",
       "           task_status       task_type work_done topic_attribute  task_number  \\\n",
       "7    Создана заявка КУ  Платная заявка       NaN          Другое  434994502,0   \n",
       "196  Создана заявка КУ  Платная заявка       NaN          Другое  434956332,0   \n",
       "\n",
       "    request_number type_ls_building2  \n",
       "7      645733932,0         Жилой дом  \n",
       "196    645682292,0         Жилой дом  "
      ]
     },
     "execution_count": 155,
     "metadata": {},
     "output_type": "execute_result"
    }
   ],
   "source": [
    "data2.head(2)"
   ]
  },
  {
   "cell_type": "code",
   "execution_count": 163,
   "id": "05914aac",
   "metadata": {},
   "outputs": [
    {
     "name": "stdout",
     "output_type": "stream",
     "text": [
      "Жилой дом\n",
      "frozenset({'Другие агентские услуги', 'Сантехнические услуги', 'Пакетные услуги', 'Модернизация, монтаж и наладка сетей слаботочных систем', 'Организация резервного энергоснабжения', 'Установка ПУ тепловой энергии', 'Электромонтажные работы по устройству внутренних электрических сетей и оборудования', 'Ремонт квартир', 'Установка ПУ водоноснабжения', 'Установка ПУ газового оборудования'})\n",
      "=======================\n",
      "Баня\n",
      "frozenset({'Установка ПУ водоноснабжения'})\n",
      "=======================\n",
      "Блочный\n",
      "frozenset({'Установка ПУ водоноснабжения'})\n",
      "=======================\n",
      "Гараж\n",
      "frozenset({'Установка ПУ водоноснабжения'})\n",
      "=======================\n",
      "Дача\n",
      "frozenset({'Электромонтажные работы по устройству внутренних электрических сетей и оборудования'})\n",
      "=======================\n",
      "Деревянный\n",
      "frozenset({'Установка ПУ водоноснабжения'})\n",
      "=======================\n",
      "Дом блокированной застройки\n",
      "frozenset({'Установка ПУ водоноснабжения'})\n",
      "=======================\n",
      "Каркасный\n",
      "frozenset({'Установка ПУ водоноснабжения'})\n",
      "=======================\n",
      "Кирпичный\n",
      "frozenset({'Другие агентские услуги', 'Сантехнические услуги', 'Пакетные услуги', 'Модернизация, монтаж и наладка сетей слаботочных систем', 'Организация резервного энергоснабжения', 'Установка ПУ тепловой энергии', 'Электромонтажные работы по устройству внутренних электрических сетей и оборудования', 'Ремонт квартир', 'Установка ПУ водоноснабжения', 'Установка ПУ газового оборудования'})\n",
      "=======================\n",
      "Коттедж\n",
      "frozenset({'Установка ПУ водоноснабжения'})\n",
      "=======================\n",
      "Многоквартирный\n",
      "frozenset({'Другие агентские услуги', 'Сантехнические услуги', 'Пакетные услуги', 'Модернизация, монтаж и наладка сетей слаботочных систем', 'Организация резервного энергоснабжения', 'Установка ПУ тепловой энергии', 'Электромонтажные работы по устройству внутренних электрических сетей и оборудования', 'Ремонт квартир', 'Установка ПУ водоноснабжения', 'Установка ПУ газового оборудования'})\n",
      "=======================\n",
      "Многоквартирный дом, нежилое помещение\n",
      "frozenset({'Установка ПУ водоноснабжения'})\n",
      "=======================\n",
      "Монолит\n",
      "frozenset({'Другие агентские услуги', 'Сантехнические услуги', 'Пакетные услуги', 'Модернизация, монтаж и наладка сетей слаботочных систем', 'Организация резервного энергоснабжения', 'Установка ПУ тепловой энергии', 'Электромонтажные работы по устройству внутренних электрических сетей и оборудования', 'Ремонт квартир', 'Установка ПУ водоноснабжения', 'Установка ПУ газового оборудования'})\n",
      "=======================\n",
      "Особняк\n",
      "frozenset({'Установка ПУ водоноснабжения'})\n",
      "=======================\n",
      "Панельный\n",
      "frozenset({'Другие агентские услуги', 'Сантехнические услуги', 'Пакетные услуги', 'Модернизация, монтаж и наладка сетей слаботочных систем', 'Организация резервного энергоснабжения', 'Установка ПУ тепловой энергии', 'Электромонтажные работы по устройству внутренних электрических сетей и оборудования', 'Ремонт квартир', 'Установка ПУ водоноснабжения', 'Установка ПУ газового оборудования'})\n",
      "=======================\n",
      "Пент-хаус\n",
      "frozenset({'Другие агентские услуги', 'Сантехнические услуги', 'Пакетные услуги', 'Модернизация, монтаж и наладка сетей слаботочных систем', 'Организация резервного энергоснабжения', 'Установка ПУ тепловой энергии', 'Электромонтажные работы по устройству внутренних электрических сетей и оборудования', 'Ремонт квартир', 'Установка ПУ водоноснабжения', 'Установка ПУ газового оборудования'})\n",
      "=======================\n",
      "Повышенной комфортности\n",
      "frozenset({'Другие агентские услуги', 'Сантехнические услуги', 'Пакетные услуги', 'Модернизация, монтаж и наладка сетей слаботочных систем', 'Организация резервного энергоснабжения', 'Установка ПУ тепловой энергии', 'Электромонтажные работы по устройству внутренних электрических сетей и оборудования', 'Ремонт квартир', 'Установка ПУ водоноснабжения', 'Установка ПУ газового оборудования'})\n",
      "=======================\n",
      "Садоводческий участок\n",
      "frozenset({'Электромонтажные работы по устройству внутренних электрических сетей и оборудования'})\n",
      "=======================\n",
      "Участок под строительство\n",
      "frozenset({'Установка ПУ водоноснабжения'})\n",
      "=======================\n",
      "Хоз. постройки\n",
      "frozenset({'Установка ПУ водоноснабжения'})\n",
      "=======================\n",
      "Частный\n",
      "frozenset({'Установка ПУ водоноснабжения'})\n",
      "=======================\n"
     ]
    }
   ],
   "source": [
    "fh=data_.groupby(by='type_ls_building2').count()\n",
    "print('Жилой дом')\n",
    "print(data2_.uslugi.iloc[0])\n",
    "print('=======================')\n",
    "for i in list(fh.index):\n",
    "    print(i)\n",
    "    print(data_[data_.type_ls_building2==i].uslugi.iloc[0])\n",
    "    print('=======================')"
   ]
  },
  {
   "cell_type": "code",
   "execution_count": 36,
   "id": "fd5e71c0",
   "metadata": {},
   "outputs": [],
   "source": [
    "for fn in ('uslugi.yaml', 'uslugi_new.yaml'):\n",
    "    p = Path(fn)\n",
    "    with p.open() as f:\n",
    "        data = yaml.safe_load(f)\n",
    "    with p.with_suffix('.json').open('w') as f:\n",
    "        json.dump(data, f, ensure_ascii=False, indent=3)"
   ]
  }
 ],
 "metadata": {
  "kernelspec": {
   "display_name": "Python 3 (ipykernel)",
   "language": "python",
   "name": "python3"
  },
  "language_info": {
   "codemirror_mode": {
    "name": "ipython",
    "version": 3
   },
   "file_extension": ".py",
   "mimetype": "text/x-python",
   "name": "python",
   "nbconvert_exporter": "python",
   "pygments_lexer": "ipython3",
   "version": "3.7.0"
  }
 },
 "nbformat": 4,
 "nbformat_minor": 5
}
